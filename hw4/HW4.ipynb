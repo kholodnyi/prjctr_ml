{
 "cells": [
  {
   "cell_type": "markdown",
   "metadata": {
    "pycharm": {
     "name": "#%% md\n"
    }
   },
   "source": [
    "# Homework 4 - Pawpularity\n",
    "\n",
    "It's time to train your first model on ~cats~ real data. The dataset of cute pets is avaialble here -  [Pawpularity Contest - Predict the popularity of shelter pet photos](https://www.kaggle.com/c/petfinder-pawpularity-score/data)\n",
    "\n",
    "\n",
    "Your task is to predict engagement with a pet's profile based on the photograph for that profile. You are also provided with hand-labelled metadata for each photo. The dataset for this competition therefore comprises both images and tabular data.\n",
    "\n",
    "In this homework we'll only use tabular meta data. Our goal is to fit linear reggresion on binary features. Let's see if we can do it better than predicting a constant.\n",
    "![PetFinder.my - Pawpularity Contest](https://www.petfinder.my/images/cuteness_meter-showcase.jpg)"
   ]
  },
  {
   "cell_type": "code",
   "execution_count": 3,
   "metadata": {
    "pycharm": {
     "name": "#%%\n"
    }
   },
   "outputs": [],
   "source": [
    "from typing import Union\n",
    "from copy import copy\n",
    "from pprint import pprint\n",
    "\n",
    "import pandas as pd\n",
    "import numpy as np\n",
    "import matplotlib.pyplot as plt\n",
    "import seaborn as sns\n",
    "from sklearn.feature_selection import SelectFromModel\n",
    "from sklearn.linear_model import LinearRegression, Ridge, Lasso\n",
    "from sklearn.linear_model._base import LinearModel\n",
    "from sklearn.metrics import mean_squared_error\n",
    "from sklearn.model_selection import GridSearchCV, train_test_split\n",
    "from sklearn.preprocessing import StandardScaler, PolynomialFeatures\n",
    "from sklearn.pipeline import make_pipeline, Pipeline\n",
    "\n",
    "sns.set(rc={'figure.figsize':(14,9)})\n",
    "%matplotlib inline"
   ]
  },
  {
   "cell_type": "code",
   "execution_count": 4,
   "metadata": {
    "pycharm": {
     "name": "#%%\n"
    }
   },
   "outputs": [],
   "source": [
    "data = pd.read_csv('data/train.csv') #  date taken from train.csv from https://www.kaggle.com/c/petfinder-pawpularity-score/data"
   ]
  },
  {
   "cell_type": "code",
   "execution_count": 5,
   "metadata": {
    "pycharm": {
     "name": "#%%\n"
    }
   },
   "outputs": [
    {
     "data": {
      "text/plain": "                                 Id  Subject Focus  Eyes  Face  Near  Action  \\\n0  0007de18844b0dbbb5e1f607da0606e0              0     1     1     1       0   \n1  0009c66b9439883ba2750fb825e1d7db              0     1     1     0       0   \n2  0013fd999caf9a3efe1352ca1b0d937e              0     1     1     1       0   \n3  0018df346ac9c1d8413cfcc888ca8246              0     1     1     1       0   \n4  001dc955e10590d3ca4673f034feeef2              0     0     0     1       0   \n\n   Accessory  Group  Collage  Human  Occlusion  Info  Blur  Pawpularity  \n0          0      1        0      0          0     0     0           63  \n1          0      0        0      0          0     0     0           42  \n2          0      0        0      1          1     0     0           28  \n3          0      0        0      0          0     0     0           15  \n4          0      1        0      0          0     0     0           72  ",
      "text/html": "<div>\n<style scoped>\n    .dataframe tbody tr th:only-of-type {\n        vertical-align: middle;\n    }\n\n    .dataframe tbody tr th {\n        vertical-align: top;\n    }\n\n    .dataframe thead th {\n        text-align: right;\n    }\n</style>\n<table border=\"1\" class=\"dataframe\">\n  <thead>\n    <tr style=\"text-align: right;\">\n      <th></th>\n      <th>Id</th>\n      <th>Subject Focus</th>\n      <th>Eyes</th>\n      <th>Face</th>\n      <th>Near</th>\n      <th>Action</th>\n      <th>Accessory</th>\n      <th>Group</th>\n      <th>Collage</th>\n      <th>Human</th>\n      <th>Occlusion</th>\n      <th>Info</th>\n      <th>Blur</th>\n      <th>Pawpularity</th>\n    </tr>\n  </thead>\n  <tbody>\n    <tr>\n      <th>0</th>\n      <td>0007de18844b0dbbb5e1f607da0606e0</td>\n      <td>0</td>\n      <td>1</td>\n      <td>1</td>\n      <td>1</td>\n      <td>0</td>\n      <td>0</td>\n      <td>1</td>\n      <td>0</td>\n      <td>0</td>\n      <td>0</td>\n      <td>0</td>\n      <td>0</td>\n      <td>63</td>\n    </tr>\n    <tr>\n      <th>1</th>\n      <td>0009c66b9439883ba2750fb825e1d7db</td>\n      <td>0</td>\n      <td>1</td>\n      <td>1</td>\n      <td>0</td>\n      <td>0</td>\n      <td>0</td>\n      <td>0</td>\n      <td>0</td>\n      <td>0</td>\n      <td>0</td>\n      <td>0</td>\n      <td>0</td>\n      <td>42</td>\n    </tr>\n    <tr>\n      <th>2</th>\n      <td>0013fd999caf9a3efe1352ca1b0d937e</td>\n      <td>0</td>\n      <td>1</td>\n      <td>1</td>\n      <td>1</td>\n      <td>0</td>\n      <td>0</td>\n      <td>0</td>\n      <td>0</td>\n      <td>1</td>\n      <td>1</td>\n      <td>0</td>\n      <td>0</td>\n      <td>28</td>\n    </tr>\n    <tr>\n      <th>3</th>\n      <td>0018df346ac9c1d8413cfcc888ca8246</td>\n      <td>0</td>\n      <td>1</td>\n      <td>1</td>\n      <td>1</td>\n      <td>0</td>\n      <td>0</td>\n      <td>0</td>\n      <td>0</td>\n      <td>0</td>\n      <td>0</td>\n      <td>0</td>\n      <td>0</td>\n      <td>15</td>\n    </tr>\n    <tr>\n      <th>4</th>\n      <td>001dc955e10590d3ca4673f034feeef2</td>\n      <td>0</td>\n      <td>0</td>\n      <td>0</td>\n      <td>1</td>\n      <td>0</td>\n      <td>0</td>\n      <td>1</td>\n      <td>0</td>\n      <td>0</td>\n      <td>0</td>\n      <td>0</td>\n      <td>0</td>\n      <td>72</td>\n    </tr>\n  </tbody>\n</table>\n</div>"
     },
     "execution_count": 5,
     "metadata": {},
     "output_type": "execute_result"
    }
   ],
   "source": [
    "data.head()"
   ]
  },
  {
   "cell_type": "markdown",
   "metadata": {
    "pycharm": {
     "name": "#%% md\n"
    }
   },
   "source": [
    "Let's create train/test split. We keep 20% of data for testing model performance"
   ]
  },
  {
   "cell_type": "code",
   "execution_count": 6,
   "metadata": {
    "pycharm": {
     "name": "#%%\n"
    }
   },
   "outputs": [
    {
     "data": {
      "text/plain": "((7929, 14), (1983, 14))"
     },
     "execution_count": 6,
     "metadata": {},
     "output_type": "execute_result"
    }
   ],
   "source": [
    "train, test = train_test_split(data, test_size=0.2, random_state=42, stratify=data.Pawpularity)\n",
    "train.shape, test.shape"
   ]
  },
  {
   "cell_type": "code",
   "execution_count": 7,
   "metadata": {
    "pycharm": {
     "name": "#%%\n"
    }
   },
   "outputs": [],
   "source": [
    "# Check that you have the same train/test split as others\n",
    "assert(train.iloc[5].Pawpularity == 13)\n",
    "assert(train.iloc[-5].Face == 1)\n",
    "assert(test.iloc[5].Group == 1)\n",
    "assert(test.iloc[-5].Pawpularity == 39)"
   ]
  },
  {
   "cell_type": "markdown",
   "metadata": {
    "pycharm": {
     "name": "#%% md\n"
    }
   },
   "source": [
    "### Baseline"
   ]
  },
  {
   "cell_type": "markdown",
   "metadata": {
    "pycharm": {
     "name": "#%% md\n"
    }
   },
   "source": [
    "Create a copy for test dataset:"
   ]
  },
  {
   "cell_type": "code",
   "execution_count": 8,
   "metadata": {
    "pycharm": {
     "name": "#%%\n"
    }
   },
   "outputs": [],
   "source": [
    "test_copy = test.copy()"
   ]
  },
  {
   "cell_type": "markdown",
   "metadata": {
    "pycharm": {
     "name": "#%% md\n"
    }
   },
   "source": [
    "Set baseline based on mean/median/mode:"
   ]
  },
  {
   "cell_type": "code",
   "execution_count": 9,
   "metadata": {
    "pycharm": {
     "name": "#%%\n"
    }
   },
   "outputs": [
    {
     "name": "stdout",
     "output_type": "stream",
     "text": [
      "For baseling would be used mean value of Pawpularity column\n",
      "It produce lowest mean squared error: 20.61757\n"
     ]
    }
   ],
   "source": [
    "# trying different approaches \n",
    "test_copy['baseline_mean'] = int(round(test_copy['Pawpularity'].mean(), 0))\n",
    "test_copy['baseline_median'] = int(round(test_copy['Pawpularity'].median(), 0))\n",
    "test_copy['baseline_mode'] = int(round(test_copy['Pawpularity'].mode()[1], 0))\n",
    "\n",
    "# calculating mean error for each method and selecting minimum error\n",
    "# among outhers \n",
    "baselines = ['baseline_mean', 'baseline_median', 'baseline_mode']\n",
    "min_error = (float('inf'), None)\n",
    "for baseline_col in baselines:\n",
    "    error = mean_squared_error(test_copy.Pawpularity, getattr(test_copy, baseline_col), squared=False)\n",
    "    if error < min_error[0]:\n",
    "        min_error = (error, baseline_col)\n",
    "\n",
    "print(f'For baseling would be used {min_error[1].split(\"_\")[1]} value of Pawpularity column')\n",
    "print(f'It produce lowest mean squared error: {min_error[0]:.5f}')\n",
    "\n",
    "# assing value to corresponding column and drop columns involved\n",
    "test_copy['baseline'] = test_copy[f'{min_error[1]}']\n",
    "test_copy.drop(columns=baselines, inplace=True)"
   ]
  },
  {
   "cell_type": "markdown",
   "metadata": {
    "pycharm": {
     "name": "#%% md\n"
    }
   },
   "source": [
    "### Regression"
   ]
  },
  {
   "cell_type": "markdown",
   "metadata": {
    "pycharm": {
     "name": "#%% md\n"
    }
   },
   "source": [
    "Let's try to train linear regression on binary features"
   ]
  },
  {
   "cell_type": "code",
   "execution_count": 10,
   "metadata": {
    "pycharm": {
     "name": "#%%\n"
    }
   },
   "outputs": [],
   "source": [
    "# let's remember the lowest error\n",
    "min_error = [float('inf'), '']"
   ]
  },
  {
   "cell_type": "code",
   "execution_count": 11,
   "metadata": {
    "pycharm": {
     "name": "#%%\n"
    }
   },
   "outputs": [
    {
     "data": {
      "text/plain": "Index(['Subject Focus', 'Eyes', 'Face', 'Near', 'Action', 'Accessory', 'Group',\n       'Collage', 'Human', 'Occlusion', 'Info', 'Blur'],\n      dtype='object')"
     },
     "execution_count": 11,
     "metadata": {},
     "output_type": "execute_result"
    }
   ],
   "source": [
    "features = data.columns[1:-1]\n",
    "features"
   ]
  },
  {
   "cell_type": "code",
   "execution_count": 12,
   "metadata": {
    "pycharm": {
     "name": "#%%\n"
    }
   },
   "outputs": [],
   "source": [
    "# dividing datasets to X and y\n",
    "X_train = train[train.columns[1:-1]]\n",
    "y_train = train['Pawpularity']\n",
    "\n",
    "X_test = test_copy[test_copy.columns[1:-2]]\n",
    "y_test = test_copy['Pawpularity']"
   ]
  },
  {
   "cell_type": "code",
   "execution_count": 13,
   "outputs": [],
   "source": [
    "def print_model_results(\n",
    "    model: Union[LinearModel, Pipeline],\n",
    "    df: pd.DataFrame,\n",
    "    df_result_column_name: str,\n",
    "    model_name: str,\n",
    "    min_error_: list,\n",
    "):\n",
    "    \"\"\"\n",
    "    Printing model performance\n",
    "    \n",
    "    :param model: regression objects or pipeline\n",
    "    :param df: test dataframe with prediction column\n",
    "    :param df_result_column_name: name of the column with prediction\n",
    "    :param model_name: name of model and methods that was used to achive results \n",
    "    \"\"\"\n",
    "    error = mean_squared_error(test_copy.Pawpularity, getattr(test_copy, df_result_column_name), squared=False)\n",
    "    print(f'{model_name} mean squared error: {error:.5f}')\n",
    "    if not isinstance(model, Pipeline):\n",
    "        print(f'Bias: {model.intercept_}\\nCoefs:')\n",
    "        pprint(list(zip(features, model.coef_)))\n",
    "    if error < min_error_[0]:\n",
    "        min_error_[0] = error\n",
    "        min_error_[1] = model_name"
   ],
   "metadata": {
    "collapsed": false,
    "pycharm": {
     "name": "#%%\n"
    }
   }
  },
  {
   "cell_type": "markdown",
   "source": [
    "#### Basic linear regression"
   ],
   "metadata": {
    "collapsed": false,
    "pycharm": {
     "name": "#%% md\n"
    }
   }
  },
  {
   "cell_type": "code",
   "execution_count": 14,
   "outputs": [],
   "source": [
    "# Train model\n",
    "model = LinearRegression()\n",
    "model.fit(X_train, y_train)\n",
    "test_copy['pred_linear_basic'] = model.predict(X_test)"
   ],
   "metadata": {
    "collapsed": false,
    "pycharm": {
     "name": "#%%\n"
    }
   }
  },
  {
   "cell_type": "code",
   "execution_count": 15,
   "outputs": [
    {
     "name": "stdout",
     "output_type": "stream",
     "text": [
      "LinearRegression mean squared error: 20.61321\n",
      "Bias: 37.75776263342275\n",
      "Coefs:\n",
      "[('Subject Focus', -1.3184191941228067),\n",
      " ('Eyes', -1.924796216229895),\n",
      " ('Face', 2.1074415988073683),\n",
      " ('Near', 0.01681275070247746),\n",
      " ('Action', -0.9241970093570023),\n",
      " ('Accessory', 1.2659010714806036),\n",
      " ('Group', 1.105205350876324),\n",
      " ('Collage', 0.6555508044163164),\n",
      " ('Human', 0.219805018921125),\n",
      " ('Occlusion', -0.24853320175797664),\n",
      " ('Info', -1.4531318086129819),\n",
      " ('Blur', -3.957873216082744)]\n"
     ]
    }
   ],
   "source": [
    "print_model_results(model, test_copy, 'pred_linear_basic', 'LinearRegression', min_error)"
   ],
   "metadata": {
    "collapsed": false,
    "pycharm": {
     "name": "#%%\n"
    }
   }
  },
  {
   "cell_type": "code",
   "execution_count": 16,
   "outputs": [
    {
     "name": "stdout",
     "output_type": "stream",
     "text": [
      "Best hyperparameters:  {'fit_intercept': True, 'n_jobs': -1, 'positive': True}\n",
      "Best score:  -0.0026474737147663464\n"
     ]
    }
   ],
   "source": [
    "# Define the hyperparameters to tune for LinearRegression\n",
    "param_grid = {\n",
    "    'fit_intercept': [True, False],\n",
    "    'positive': [True, False],\n",
    "    'n_jobs': [-1]\n",
    "}\n",
    "\n",
    "# Create an instance of the linear regression model\n",
    "model = LinearRegression()\n",
    "\n",
    "grid_search = GridSearchCV(model, param_grid, cv=5, n_jobs=-1)\n",
    "grid_search.fit(X_train, y_train)\n",
    "\n",
    "# Print the best hyperparameters and the corresponding score\n",
    "print(\"Best hyperparameters: \", grid_search.best_params_)\n",
    "print(\"Best score: \", grid_search.best_score_)"
   ],
   "metadata": {
    "collapsed": false,
    "pycharm": {
     "name": "#%%\n"
    }
   }
  },
  {
   "cell_type": "code",
   "execution_count": 17,
   "outputs": [],
   "source": [
    "# Create an instance of the linear regression model with the best hyperparameters from previos step\n",
    "model = LinearRegression(fit_intercept=True, positive=True, n_jobs=-1)\n",
    "\n",
    "# There are no need in scaling since we have binary features\n",
    "# but in case we need scaling here how it would look like: \n",
    "# \n",
    "# scaler = StandardScaler()\n",
    "# X_scaled = scaler.fit_transform(X_train)\n",
    "# X_scaled = pd.DataFrame(X_scaled, columns=features)\n",
    "# model.fit(X_scaled, y_train)\n",
    "\n",
    "model.fit(X_train, y_train)\n",
    "\n",
    "# Predict the result\n",
    "test_copy['pred_linear_tuned'] = model.predict(X_test)"
   ],
   "metadata": {
    "collapsed": false,
    "pycharm": {
     "name": "#%%\n"
    }
   }
  },
  {
   "cell_type": "markdown",
   "source": [],
   "metadata": {
    "collapsed": false,
    "pycharm": {
     "name": "#%% md\n"
    }
   }
  },
  {
   "cell_type": "code",
   "execution_count": 18,
   "outputs": [
    {
     "data": {
      "text/plain": "<AxesSubplot: xlabel='pred_linear_tuned', ylabel='Pawpularity'>"
     },
     "execution_count": 18,
     "metadata": {},
     "output_type": "execute_result"
    },
    {
     "data": {
      "text/plain": "<Figure size 1400x900 with 1 Axes>",
      "image/png": "[encoded data removed]"
     },
     "metadata": {},
     "output_type": "display_data"
    }
   ],
   "source": [
    "# True value / pred value plot:\n",
    "sns.scatterplot(x=test_copy.pred_linear_tuned, y=test.Pawpularity)"
   ],
   "metadata": {
    "collapsed": false,
    "pycharm": {
     "name": "#%%\n"
    }
   }
  },
  {
   "cell_type": "code",
   "execution_count": 19,
   "outputs": [
    {
     "data": {
      "text/plain": "<AxesSubplot: ylabel='Count'>"
     },
     "execution_count": 19,
     "metadata": {},
     "output_type": "execute_result"
    },
    {
     "data": {
      "text/plain": "<Figure size 1400x900 with 1 Axes>",
      "image/png": "[encoded data removed]"
     },
     "metadata": {},
     "output_type": "display_data"
    }
   ],
   "source": [
    "# Errors distribution:\n",
    "sns.histplot(test.Pawpularity - test_copy.pred_linear_tuned)"
   ],
   "metadata": {
    "collapsed": false,
    "pycharm": {
     "name": "#%%\n"
    }
   }
  },
  {
   "cell_type": "markdown",
   "source": [
    "**Compare several regression models (L1, L2 regularization), select the best. Don't forget to tune hyperparams**\n"
   ],
   "metadata": {
    "collapsed": false,
    "pycharm": {
     "name": "#%% md\n"
    }
   }
  },
  {
   "cell_type": "code",
   "execution_count": 20,
   "outputs": [],
   "source": [
    "# Let's try Lasso regression without tuning\n",
    "model = Lasso()\n",
    "model.fit(X_train, y_train)\n",
    "test_copy['pred_lasso_basic'] = model.predict(X_test)"
   ],
   "metadata": {
    "collapsed": false,
    "pycharm": {
     "name": "#%%\n"
    }
   }
  },
  {
   "cell_type": "code",
   "execution_count": 21,
   "outputs": [
    {
     "name": "stdout",
     "output_type": "stream",
     "text": [
      "Lasso mean squared error: 20.61751\n",
      "Bias: 38.03493504855594\n",
      "Coefs:\n",
      "[('Subject Focus', -0.0),\n",
      " ('Eyes', 0.0),\n",
      " ('Face', 0.0),\n",
      " ('Near', -0.0),\n",
      " ('Action', -0.0),\n",
      " ('Accessory', 0.0),\n",
      " ('Group', 0.0),\n",
      " ('Collage', 0.0),\n",
      " ('Human', -0.0),\n",
      " ('Occlusion', -0.0),\n",
      " ('Info', -0.0),\n",
      " ('Blur', -0.0)]\n"
     ]
    }
   ],
   "source": [
    "print_model_results(model, test_copy, 'pred_lasso_basic', 'Lasso', min_error)"
   ],
   "metadata": {
    "collapsed": false,
    "pycharm": {
     "name": "#%%\n"
    }
   }
  },
  {
   "cell_type": "code",
   "execution_count": 22,
   "outputs": [
    {
     "name": "stdout",
     "output_type": "stream",
     "text": [
      "Best hyperparameters:  {'alpha': 0.12, 'fit_intercept': True, 'positive': False}\n",
      "Best score:  -0.0008045389102725453\n"
     ]
    }
   ],
   "source": [
    "# Define the hyperparameters to tune for Lasso\n",
    "param_grid = {\n",
    "    'fit_intercept': [True, False],\n",
    "    'positive': [True, False],\n",
    "    'alpha': np.arange(0.01, 1.0, 0.01)\n",
    "}\n",
    "\n",
    "# Create an instance of the linear regression model\n",
    "model = Lasso()\n",
    "\n",
    "# # Create an instance of StandardScaler\n",
    "# scaler = StandardScaler()\n",
    "\n",
    "# Create an instance of GridSearchCV\n",
    "grid_search = GridSearchCV(model, param_grid, cv=5, n_jobs=-1)\n",
    "\n",
    "# Fit the model using GridSearchCV\n",
    "grid_search.fit(X_train, y_train)\n",
    "\n",
    "# Print the best hyperparameters and the corresponding score\n",
    "print(\"Best hyperparameters: \", grid_search.best_params_)\n",
    "print(\"Best score: \", grid_search.best_score_)"
   ],
   "metadata": {
    "collapsed": false,
    "pycharm": {
     "name": "#%%\n"
    }
   }
  },
  {
   "cell_type": "code",
   "execution_count": 23,
   "outputs": [],
   "source": [
    "model = Lasso(fit_intercept=True, positive=False, alpha=0.12)\n",
    "model.fit(X_train, y_train)\n",
    "test_copy['pred_lasso_tuned'] = model.predict(X_test)"
   ],
   "metadata": {
    "collapsed": false,
    "pycharm": {
     "name": "#%%\n"
    }
   }
  },
  {
   "cell_type": "code",
   "execution_count": 24,
   "outputs": [
    {
     "name": "stdout",
     "output_type": "stream",
     "text": [
      "Lasso tuned mean squared error: 20.61965\n",
      "Bias: 38.08362995116658\n",
      "Coefs:\n",
      "[('Subject Focus', -0.0),\n",
      " ('Eyes', -0.0),\n",
      " ('Face', 0.0),\n",
      " ('Near', -0.0),\n",
      " ('Action', -0.0),\n",
      " ('Accessory', 0.0),\n",
      " ('Group', 0.0),\n",
      " ('Collage', 0.0),\n",
      " ('Human', -0.0),\n",
      " ('Occlusion', -0.0),\n",
      " ('Info', -0.0),\n",
      " ('Blur', -0.6931811181324463)]\n"
     ]
    }
   ],
   "source": [
    "print_model_results(model, test_copy, 'pred_lasso_tuned', 'Lasso tuned', min_error)"
   ],
   "metadata": {
    "collapsed": false,
    "pycharm": {
     "name": "#%%\n"
    }
   }
  },
  {
   "cell_type": "code",
   "execution_count": 25,
   "outputs": [
    {
     "name": "stdout",
     "output_type": "stream",
     "text": [
      "Best hyperparameters:  {'alpha': 0.99, 'fit_intercept': True, 'positive': True}\n",
      "Best score:  -0.0025971108805160183\n"
     ]
    }
   ],
   "source": [
    "# Define the hyperparameters to tune for Ridge\n",
    "param_grid = {\n",
    "    'fit_intercept': [True, False],\n",
    "    'positive': [True, False],\n",
    "    'alpha': np.arange(0.01, 1, 0.01),\n",
    "}\n",
    "\n",
    "# Create an instance of the linear regression model\n",
    "model = Ridge()\n",
    "\n",
    "# # Create an instance of StandardScaler\n",
    "# scaler = StandardScaler()\n",
    "\n",
    "# Create an instance of GridSearchCV\n",
    "grid_search = GridSearchCV(model, param_grid, cv=5, n_jobs=-1)\n",
    "\n",
    "# Fit the model using GridSearchCV\n",
    "grid_search.fit(X_train, y_train)\n",
    "\n",
    "# Print the best hyperparameters and the corresponding score\n",
    "print(\"Best hyperparameters: \", grid_search.best_params_)\n",
    "print(\"Best score: \", grid_search.best_score_)"
   ],
   "metadata": {
    "collapsed": false,
    "pycharm": {
     "name": "#%%\n"
    }
   }
  },
  {
   "cell_type": "code",
   "execution_count": 26,
   "outputs": [],
   "source": [
    "model = Ridge(fit_intercept=True, positive=True, alpha=0.99)\n",
    "model.fit(X_train, y_train)\n",
    "test_copy['pred_ridge_tuned'] = model.predict(X_test)"
   ],
   "metadata": {
    "collapsed": false,
    "pycharm": {
     "name": "#%%\n"
    }
   }
  },
  {
   "cell_type": "code",
   "execution_count": 27,
   "outputs": [
    {
     "name": "stdout",
     "output_type": "stream",
     "text": [
      "Ridge tuned mean squared error: 20.61291\n",
      "Bias: 37.064821669161546\n",
      "Coefs:\n",
      "[('Subject Focus', 0.0),\n",
      " ('Eyes', 0.0),\n",
      " ('Face', 0.7979929950765915),\n",
      " ('Near', 0.002590724525966333),\n",
      " ('Action', 0.0),\n",
      " ('Accessory', 1.2351893682481199),\n",
      " ('Group', 1.1279204152619917),\n",
      " ('Collage', 0.0),\n",
      " ('Human', 0.09879627072400136),\n",
      " ('Occlusion', 0.0),\n",
      " ('Info', 0.0),\n",
      " ('Blur', 0.0)]\n"
     ]
    }
   ],
   "source": [
    "print_model_results(model, test_copy, 'pred_ridge_tuned', 'Ridge tuned', min_error)"
   ],
   "metadata": {
    "collapsed": false,
    "pycharm": {
     "name": "#%%\n"
    }
   }
  },
  {
   "cell_type": "markdown",
   "source": [
    "### Polinomial Regression\n",
    "Do polynomial features improve the score?"
   ],
   "metadata": {
    "collapsed": false,
    "pycharm": {
     "name": "#%% md\n"
    }
   }
  },
  {
   "cell_type": "markdown",
   "source": [
    "[make_pipeline](https://scikit-learn.org/stable/modules/generated/sklearn.pipeline.make_pipeline.html) helps to combine several steps into one model"
   ],
   "metadata": {
    "collapsed": false,
    "pycharm": {
     "name": "#%% md\n"
    }
   }
  },
  {
   "cell_type": "code",
   "execution_count": 28,
   "outputs": [
    {
     "name": "stdout",
     "output_type": "stream",
     "text": [
      "Ridge tuned with polinominal features mean squared error: 20.60511\n"
     ]
    }
   ],
   "source": [
    "model = make_pipeline(\n",
    "    PolynomialFeatures(degree=3),\n",
    "    Ridge(fit_intercept=True, positive=True, alpha=0.99),\n",
    ")\n",
    "model.fit(X_train, y_train)\n",
    "test_copy['pred_ridge_poly_pipeline'] = model.predict(X_test)\n",
    "print_model_results(\n",
    "    model,\n",
    "    test_copy,\n",
    "    'pred_ridge_poly_pipeline',\n",
    "    'Ridge tuned with polinominal features',\n",
    "    min_error)"
   ],
   "metadata": {
    "collapsed": false,
    "pycharm": {
     "name": "#%%\n"
    }
   }
  },
  {
   "cell_type": "code",
   "execution_count": 29,
   "outputs": [
    {
     "name": "stdout",
     "output_type": "stream",
     "text": [
      "LinearRegression tuned with polinominal features mean squared error: 20.59949\n"
     ]
    }
   ],
   "source": [
    "model = make_pipeline(\n",
    "    PolynomialFeatures(degree=3),\n",
    "    LinearRegression(fit_intercept=True, positive=True, n_jobs=-1),\n",
    ")\n",
    "model.fit(X_train, y_train)\n",
    "test_copy['pred_linear_poly_pipeline'] = model.predict(X_test)\n",
    "print_model_results(\n",
    "    model,\n",
    "    test_copy, \n",
    "    'pred_linear_poly_pipeline',\n",
    "    'LinearRegression tuned with polinominal features',\n",
    "    min_error)"
   ],
   "metadata": {
    "collapsed": false,
    "pycharm": {
     "name": "#%%\n"
    }
   }
  },
  {
   "cell_type": "code",
   "execution_count": 30,
   "outputs": [
    {
     "name": "stdout",
     "output_type": "stream",
     "text": [
      "Lasso tuned with polinominal features mean squared error: 20.61965\n"
     ]
    }
   ],
   "source": [
    "model = make_pipeline(\n",
    "    PolynomialFeatures(degree=3),\n",
    "    Lasso(fit_intercept=True, positive=False, alpha=0.12),\n",
    ")\n",
    "model.fit(X_train, y_train)\n",
    "test_copy['pred_lasso_poly_pipeline'] = model.predict(X_test)\n",
    "print_model_results(\n",
    "    model,\n",
    "    test_copy,\n",
    "    'pred_lasso_poly_pipeline',\n",
    "    'Lasso tuned with polinominal features',\n",
    "    min_error)\n"
   ],
   "metadata": {
    "collapsed": false,
    "pycharm": {
     "name": "#%%\n"
    }
   }
  },
  {
   "cell_type": "code",
   "execution_count": 31,
   "outputs": [
    {
     "name": "stdout",
     "output_type": "stream",
     "text": [
      "Lowest error so far is 20.59949 using LinearRegression tuned with polinominal features\n"
     ]
    }
   ],
   "source": [
    "print(f'Lowest error so far is {min_error[0]:.5f} using {min_error[1]}')"
   ],
   "metadata": {
    "collapsed": false,
    "pycharm": {
     "name": "#%%\n"
    }
   }
  },
  {
   "cell_type": "markdown",
   "source": [
    "### Feature selection"
   ],
   "metadata": {
    "collapsed": false,
    "pycharm": {
     "name": "#%% md\n"
    }
   }
  },
  {
   "cell_type": "markdown",
   "source": [
    "Let's use Lasso for feature selection. Sklearn's [SelectFromModel](https://scikit-learn.org/stable/modules/feature_selection.html#feature-selection-using-selectfrommodel) will help"
   ],
   "metadata": {
    "collapsed": false,
    "pycharm": {
     "name": "#%% md\n"
    }
   }
  },
  {
   "cell_type": "code",
   "execution_count": 32,
   "outputs": [
    {
     "name": "stdout",
     "output_type": "stream",
     "text": [
      "Lasso tuned with polinominal features and feature selection mean squared error: 20.61965\n"
     ]
    }
   ],
   "source": [
    "model = make_pipeline(\n",
    "    PolynomialFeatures(degree=3),\n",
    "    SelectFromModel(Lasso(fit_intercept=True, positive=False, alpha=0.12)),\n",
    "    Lasso(fit_intercept=True, positive=False, alpha=0.12),\n",
    ")\n",
    "model.fit(X_train, y_train)\n",
    "test_copy['pred_lasso_poly_selection'] = model.predict(X_test)\n",
    "print_model_results(\n",
    "    model,\n",
    "    test_copy,\n",
    "    'pred_lasso_poly_selection',\n",
    "    'Lasso tuned with polinominal features and feature selection',\n",
    "    min_error)\n"
   ],
   "metadata": {
    "collapsed": false,
    "pycharm": {
     "name": "#%%\n"
    }
   }
  },
  {
   "cell_type": "code",
   "execution_count": 33,
   "outputs": [
    {
     "name": "stdout",
     "output_type": "stream",
     "text": [
      "LinearRegression tuned with polinominal features and feature selection mean squared error: 20.59820\n"
     ]
    }
   ],
   "source": [
    "model = make_pipeline(\n",
    "    PolynomialFeatures(degree=3),\n",
    "    SelectFromModel(LinearRegression(fit_intercept=True, positive=True, n_jobs=-1)),\n",
    "    LinearRegression(fit_intercept=True, positive=True, n_jobs=-1),\n",
    ")\n",
    "model.fit(X_train, y_train)\n",
    "test_copy['pred_linear_poly_selection'] = model.predict(X_test)\n",
    "print_model_results(\n",
    "    model,\n",
    "    test_copy,\n",
    "    'pred_linear_poly_selection',\n",
    "    'LinearRegression tuned with polinominal features and feature selection',\n",
    "    min_error)\n"
   ],
   "metadata": {
    "collapsed": false,
    "pycharm": {
     "name": "#%%\n"
    }
   }
  },
  {
   "cell_type": "markdown",
   "source": [
    "### Overal result"
   ],
   "metadata": {
    "collapsed": false,
    "pycharm": {
     "name": "#%% md\n"
    }
   }
  },
  {
   "cell_type": "code",
   "execution_count": 34,
   "outputs": [
    {
     "name": "stdout",
     "output_type": "stream",
     "text": [
      "Lowest error overall was achived is 20.59820 using LinearRegression tuned with polinominal features and feature selection\n"
     ]
    }
   ],
   "source": [
    "print(f'Lowest error overall was achived is {min_error[0]:.5f} using {min_error[1]}')"
   ],
   "metadata": {
    "collapsed": false,
    "pycharm": {
     "name": "#%%\n"
    }
   }
  }
 ],
 "metadata": {
  "kernelspec": {
   "display_name": "Python 3 (ipykernel)",
   "language": "python",
   "name": "python3"
  },
  "language_info": {
   "codemirror_mode": {
    "name": "ipython",
    "version": 3
   },
   "file_extension": ".py",
   "mimetype": "text/x-python",
   "name": "python",
   "nbconvert_exporter": "python",
   "pygments_lexer": "ipython3",
   "version": "3.10.5"
  }
 },
 "nbformat": 4,
 "nbformat_minor": 2
}